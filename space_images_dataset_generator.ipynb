{
 "cells": [
  {
   "cell_type": "markdown",
   "metadata": {},
   "source": [
    "# SPACE IMAGES DATASET\n",
    "Use the following script to generate a set of space images from the JWST, APOD, and NASA Image and Video Library API. "
   ]
  },
  {
   "cell_type": "markdown",
   "metadata": {},
   "source": [
    "### Imports"
   ]
  },
  {
   "cell_type": "code",
   "execution_count": 190,
   "metadata": {},
   "outputs": [],
   "source": [
    "# If you do not have the modules installed please uncomment and run the following command:\n",
    "#!pip install -r requirements.txt"
   ]
  },
  {
   "cell_type": "code",
   "execution_count": 191,
   "metadata": {},
   "outputs": [],
   "source": [
    "# Imports\n",
    "import requests\n",
    "from io import BytesIO\n",
    "from PIL import Image\n",
    "import os\n",
    "import json\n",
    "import glob\n",
    "import pandas as pd"
   ]
  },
  {
   "cell_type": "markdown",
   "metadata": {},
   "source": [
    "### SET CONFIGURATION VARIABLES FOR SCRIPT FUNCTIONALITIES\n",
    "- DEV_MODE: Used to print data for development and testing purposes\n",
    "- Api Keys: Set these variables to the generated API keys from the APIs\n",
    "    - JWST_API_KEY\n",
    "    - NASA_APIs_KEY\n",
    "- Images Configurations: \n",
    "    - DOWNLOAD_IMAGES\n",
    "    - REMOVE_NON_DOWNLOADABLE_IMAGES\n",
    "    - CLEAR_IMAGES_FOLDER\n",
    "- Amount of data to download from each API: \n",
    "    - JWST_API_AMOUNT \n",
    "    - APOD_API_AMOUNT\n",
    "    - NASA_API_AMOUNT"
   ]
  },
  {
   "cell_type": "code",
   "execution_count": 192,
   "metadata": {},
   "outputs": [],
   "source": [
    "\"\"\"\n",
    "DEV_MODE is to print the data retrieved from the APIs after every call. Used for development and testing purposes.\n",
    "\"\"\"\n",
    "DEV_MODE = False"
   ]
  },
  {
   "cell_type": "code",
   "execution_count": 193,
   "metadata": {},
   "outputs": [],
   "source": [
    "\"\"\"\n",
    "API KEYS\n",
    "1. Sign up to generate API key for JWST from https://jwstapi.com and replace the JWST_API_KEY below\n",
    "2. Sign up to generate an API key for NASA APIs - APOD API from https://api.nasa.gov and replace the NASA_APIs_KEY below\n",
    "\"\"\"\n",
    "JWST_API_KEY = \"\"\n",
    "NASA_APIs_KEY = \"\""
   ]
  },
  {
   "cell_type": "code",
   "execution_count": 194,
   "metadata": {},
   "outputs": [],
   "source": [
    "\"\"\"\n",
    "Do you want to download the images?\n",
    "An \"images\" directory will be created if it does not exist\n",
    "VALUE: < True or False >\n",
    "\"\"\"\n",
    "DOWNLOAD_IMAGES = True\n"
   ]
  },
  {
   "cell_type": "code",
   "execution_count": 195,
   "metadata": {},
   "outputs": [],
   "source": [
    "\"\"\"\n",
    "Remove Non Downloadable Images from Dataset\n",
    "If you want the final csv dataset to contain only data for downloadable images\n",
    "VALUE: < True or False >\n",
    "\"\"\"\n",
    "REMOVE_NON_DOWNLOADABLE_IMAGES = True\n"
   ]
  },
  {
   "cell_type": "code",
   "execution_count": 196,
   "metadata": {},
   "outputs": [],
   "source": [
    "\"\"\"\n",
    "Clear the images folder of any files\n",
    "VALUE: < True or False >\n",
    "\"\"\"\n",
    "CLEAR_IMAGES_FOLDER = True"
   ]
  },
  {
   "cell_type": "code",
   "execution_count": 197,
   "metadata": {},
   "outputs": [],
   "source": [
    "\"\"\"\n",
    "Amount of Data to retrieve from JWST API\n",
    "If you do not want data from this API, please put 0\n",
    "VALUE: < Whole integer >\n",
    "\"\"\"\n",
    "JWST_API_AMOUNT = 10"
   ]
  },
  {
   "cell_type": "code",
   "execution_count": 198,
   "metadata": {},
   "outputs": [],
   "source": [
    "\"\"\"\n",
    "Amount of Data to retrieve from APOD API\n",
    "If you do not want data from this API, please put 0\n",
    "VALUE: < Whole integer >\n",
    "\"\"\"\n",
    "APOD_API_AMOUNT = 10"
   ]
  },
  {
   "cell_type": "code",
   "execution_count": 199,
   "metadata": {},
   "outputs": [],
   "source": [
    "\"\"\"\n",
    "Amount of Data to retrieve from NASA Image and Video Library API\n",
    "If you do not want data from this API, please put 0\n",
    "VALUE: < Whole integer >\n",
    "\"\"\"\n",
    "NASA_API_AMOUNT = 10"
   ]
  },
  {
   "cell_type": "code",
   "execution_count": 200,
   "metadata": {},
   "outputs": [],
   "source": [
    "\"\"\"\n",
    "# NASA Image and Video Library Search Terms\n",
    "# Add more search terms or remove them from the list below. \n",
    "# Please make sure the search term is in the list and surrouned by \"\" and separated by ,\n",
    "# The API will be called for each search term and retrieve the NASA_API_AMOUNT of data each time.\n",
    "# If none are provided default is \"Images\".\n",
    "# If NASA_API_AMOUNT is 0 then this will not be used.\n",
    "\"\"\"\n",
    "NASA_API_SEARCH_TERMS = [\"images\", \"JWST\"]"
   ]
  },
  {
   "cell_type": "markdown",
   "metadata": {},
   "source": [
    "### Retrieve data from each API and return response"
   ]
  },
  {
   "cell_type": "code",
   "execution_count": 201,
   "metadata": {},
   "outputs": [],
   "source": [
    "def jwst_api(page=1, count=1):\n",
    "    \"\"\"\n",
    "    JWST API: https://jwstapi.com/\n",
    "    Documentation: https://documenter.getpostman.com/view/10808728/UzQyphjT\n",
    "    \"\"\"\n",
    "    url=f\"https://api.jwstapi.com/all/type/jpg?page={page}&perPage={count}\"\n",
    "    response = requests.get(url, headers={\"X-API-KEY\": JWST_API_KEY})\n",
    "    try: \n",
    "        response.raise_for_status()\n",
    "    except response.exceptions.HTTPError as e: \n",
    "        print(f\"JWST API NOT RESPONDING: {str(e)}\")\n",
    "    return response.json()"
   ]
  },
  {
   "cell_type": "code",
   "execution_count": 202,
   "metadata": {},
   "outputs": [],
   "source": [
    "def nasa_images_api(page=1, count=1, searchTerm=\"images\"):\n",
    "    \"\"\"\n",
    "    NASA IMAGES API: https://api.nasa.gov/ - Go to NASA Image and Video Library section\n",
    "    \"\"\"\n",
    "    url=f\"https://images-api.nasa.gov/search?q={searchTerm}&page={page}&page_size={count}\"\n",
    "    response = requests.get(url)\n",
    "    try:\n",
    "        response.raise_for_status()\n",
    "    except response.exceptions.HTTPError as e:\n",
    "        print(f\"NASA IMAGES API NOT RESPONDING: {str(e)}\")\n",
    "    return response.json()"
   ]
  },
  {
   "cell_type": "code",
   "execution_count": 203,
   "metadata": {},
   "outputs": [],
   "source": [
    "def apod_api(count=1):\n",
    "    \"\"\"\n",
    "    APOD API: https://api.nasa.gov/ -  Go to APOD section\n",
    "    \"\"\"\n",
    "    url=f\"https://api.nasa.gov/planetary/apod?api_key={NASA_APIs_KEY}&count={count}\"\n",
    "    response = requests.get(url)\n",
    "    try:\n",
    "        response.raise_for_status()\n",
    "    except response.exceptions.HTTPError as e:\n",
    "        print(f\"APOD API NOT RESPONDING: {str(e)}\")\n",
    "    return response.json()"
   ]
  },
  {
   "cell_type": "markdown",
   "metadata": {},
   "source": [
    "### Parse the API response data from the APIs for our dataset values"
   ]
  },
  {
   "cell_type": "code",
   "execution_count": 204,
   "metadata": {},
   "outputs": [],
   "source": [
    "def build_jwst_data(data):\n",
    "    RESULT_JSON_TEMPLATE = {\"id\": -1,\"imageURL\": \"\", \"description\":\"\", \"date\": \"\", \"metadata\":{}}\n",
    "\n",
    "    if DEV_MODE:\n",
    "        print(\"JWST API:\")\n",
    "        print(data)\n",
    "        print()\n",
    "            \n",
    "    KEYS_in_data = [key for key in data.keys()]\n",
    "    KEYS_in_data.extend([key for key in data['details'].keys()])\n",
    "\n",
    "    if 'location' in KEYS_in_data:\n",
    "        image = data['location']\n",
    "        RESULT_JSON_TEMPLATE['imageURL'] = image\n",
    "        if DEV_MODE:\n",
    "            print(\"Image:\", image)\n",
    "\n",
    "    if 'description' in KEYS_in_data:\n",
    "        description = data['details']['description']\n",
    "        RESULT_JSON_TEMPLATE['description'] = description\n",
    "        if DEV_MODE:\n",
    "            print(\"Description - description:\", description)\n",
    "\n",
    "    if 'id' in KEYS_in_data:\n",
    "        id_ = data['id']\n",
    "        RESULT_JSON_TEMPLATE['metadata']['id_'] = id_\n",
    "        if DEV_MODE:\n",
    "            print(\"Description - id:\", id_)\n",
    "\n",
    "    if 'program' in KEYS_in_data:\n",
    "        program = data['program']\n",
    "        RESULT_JSON_TEMPLATE['metadata']['program'] = program\n",
    "        if DEV_MODE:\n",
    "            print(\"Description - program:\", program)\n",
    "\n",
    "    if 'mission' in KEYS_in_data:\n",
    "        mission = data['details']['mission']\n",
    "        RESULT_JSON_TEMPLATE['metadata']['mission'] = program\n",
    "        if DEV_MODE:\n",
    "            print(\"Description - mission:\", mission)\n",
    "\n",
    "    if 'instruments' in KEYS_in_data:\n",
    "        instruments = data['details']['instruments']\n",
    "        RESULT_JSON_TEMPLATE['metadata']['instruments'] = instruments\n",
    "        if DEV_MODE:\n",
    "            print(\"Description - instruments:\", instruments)\n",
    "            print()\n",
    "\n",
    "    RESULT_JSON_TEMPLATE['date'] = \"\"\n",
    "\n",
    "    return RESULT_JSON_TEMPLATE\n"
   ]
  },
  {
   "cell_type": "code",
   "execution_count": 205,
   "metadata": {},
   "outputs": [],
   "source": [
    "def build_nasa_images_data(data):\n",
    "    RESULT_JSON_TEMPLATE = {\"id\": -1, \"imageURL\": \"\", \"description\":\"\", \"date\": \"\", \"metadata\":{}}\n",
    "\n",
    "    data_body = data['data'][0]\n",
    "    if DEV_MODE:\n",
    "        print(\"NASE IMAGES API:\")\n",
    "        print(data)\n",
    "        print()\n",
    "\n",
    "    KEYS_in_data = [key for key in data.keys()]\n",
    "    KEYS_in_data.extend([key for key in data_body.keys()])\n",
    "\n",
    "    if 'links' in KEYS_in_data:\n",
    "        image = data['links'][0]['href']\n",
    "        RESULT_JSON_TEMPLATE['imageURL'] = image\n",
    "        if DEV_MODE:\n",
    "            print(\"Image:\", image)\n",
    "\n",
    "    if  'title' in KEYS_in_data:\n",
    "        title = data_body['title']\n",
    "        RESULT_JSON_TEMPLATE['metadata']['title'] = title\n",
    "        if DEV_MODE:\n",
    "            print(\"Description - title:\", title)\n",
    "\n",
    "    if 'location' in KEYS_in_data:\n",
    "        location = data_body['location']\n",
    "        RESULT_JSON_TEMPLATE['metadata']['location'] = location\n",
    "        if DEV_MODE:\n",
    "            print(\"Description - location:\", location)\n",
    "\n",
    "    if 'nasa_id' in KEYS_in_data:\n",
    "        nasa_id = data_body['nasa_id']\n",
    "        RESULT_JSON_TEMPLATE['metadata']['nasa_id'] = nasa_id\n",
    "        if DEV_MODE:\n",
    "            print(\"Description - nasa_id:\", nasa_id)\n",
    "\n",
    "    if 'description' in KEYS_in_data:\n",
    "        description = data_body['description']\n",
    "        RESULT_JSON_TEMPLATE['description'] = description\n",
    "        if DEV_MODE:\n",
    "            print(\"Description - description:\", description)\n",
    "\n",
    "    if 'date_created' in KEYS_in_data:\n",
    "        date_created = data_body['date_created']\n",
    "        RESULT_JSON_TEMPLATE['date'] = date_created\n",
    "        if DEV_MODE:\n",
    "            print(\"Description - date created:\", date_created)\n",
    "\n",
    "    if 'href' in KEYS_in_data:\n",
    "        \"\"\"\n",
    "        Links to additional metadata\n",
    "        \"\"\"\n",
    "        collection = data['href']\n",
    "        RESULT_JSON_TEMPLATE['metadata']['other_links'] = collection\n",
    "        if DEV_MODE:\n",
    "            print(\"Description - collection:\", collection)\n",
    "    \n",
    "    return RESULT_JSON_TEMPLATE \n"
   ]
  },
  {
   "cell_type": "code",
   "execution_count": 206,
   "metadata": {},
   "outputs": [],
   "source": [
    "def build_apod_data(data):\n",
    "    RESULT_JSON_TEMPLATE = {\"id\": -1, \"imageURL\": \"\", \"description\":\"\", \"date\": \"\", \"metadata\":{}}\n",
    "\n",
    "    if DEV_MODE:\n",
    "        print(\"APOD API:\")\n",
    "        print(data)\n",
    "        print()\n",
    "    \n",
    "    KEYS_in_data = [key for key in data.keys()]\n",
    "\n",
    "    if 'url' in KEYS_in_data:\n",
    "        image = data['url']\n",
    "        RESULT_JSON_TEMPLATE['imageURL'] = image\n",
    "        if DEV_MODE:\n",
    "            print(\"Image:\", image)\n",
    "        \n",
    "    if 'title' in KEYS_in_data:\n",
    "        title = data['title']\n",
    "        RESULT_JSON_TEMPLATE['metadata']['title'] = title\n",
    "        if DEV_MODE:\n",
    "            print(\"Description - title:\", title)\n",
    "\n",
    "    if 'copyright' in KEYS_in_data:\n",
    "        copyright_ = data['copyright']\n",
    "        RESULT_JSON_TEMPLATE['metadata']['copyright'] = copyright_\n",
    "        if DEV_MODE:\n",
    "            print(\"Description - copyright:\", copyright_)\n",
    "\n",
    "    if 'explanation' in KEYS_in_data:\n",
    "        explanation = data['explanation']\n",
    "        RESULT_JSON_TEMPLATE['description'] = explanation\n",
    "        if DEV_MODE:\n",
    "            print(\"Description - explanation:\", explanation)\n",
    "\n",
    "    if 'date' in KEYS_in_data:\n",
    "        date = data['date']\n",
    "        RESULT_JSON_TEMPLATE['date'] = date\n",
    "        if DEV_MODE:\n",
    "            print(\"Description - date:\", date)\n",
    "\n",
    "\n",
    "    return RESULT_JSON_TEMPLATE \n"
   ]
  },
  {
   "cell_type": "markdown",
   "metadata": {},
   "source": [
    "#### Helper method to help with pagination for page limits on the API calls."
   ]
  },
  {
   "cell_type": "code",
   "execution_count": 207,
   "metadata": {},
   "outputs": [],
   "source": [
    "def construct_pages_counts(count):\n",
    "    \"\"\"\n",
    "    Create pagination pages and counts to retrieve data in multiple calls\n",
    "    \"\"\"\n",
    "    pages = [i+1 for i in range(count // 100)]\n",
    "    counts = [100 for i in range(count // 100)]\n",
    "\n",
    "    if len(pages) > 0:\n",
    "        counts.append(count - pages[-1]*100)\n",
    "        pages.append(pages[-1]+1)\n",
    "    else:\n",
    "        pages.append(1)\n",
    "        counts.append(count)\n",
    "\n",
    "    return pages, counts"
   ]
  },
  {
   "cell_type": "markdown",
   "metadata": {},
   "source": [
    "### Main function to call the API methods for the API Amounts set at the beginning of the file and generate an initial set of JSON data"
   ]
  },
  {
   "cell_type": "code",
   "execution_count": 208,
   "metadata": {},
   "outputs": [],
   "source": [
    "\"\"\"\n",
    "Main function to call each API with the count number and append to the final JSON dataset\n",
    "\"\"\"\n",
    "def get_data():\n",
    "    \"\"\"\n",
    "    Retrieve data from APIs and construct a single data object\n",
    "    \"\"\"\n",
    "    DATASET_JSON = []\n",
    "    id_ = 0\n",
    "    \n",
    "    # JWST API \n",
    "    if JWST_API_AMOUNT > 0:\n",
    "        JWST_API_pages, JWST_API_counts = construct_pages_counts(JWST_API_AMOUNT)\n",
    "        for idx, p in enumerate(JWST_API_pages):\n",
    "            data_jwst = jwst_api(page=p, count=JWST_API_counts[idx])\n",
    "            for data in data_jwst['body']:\n",
    "                parsed_jwst = build_jwst_data(data)\n",
    "                if parsed_jwst['imageURL'] != \"\":\n",
    "                    parsed_jwst['id'] = id_\n",
    "                    id_ += 1\n",
    "                    DATASET_JSON.append(parsed_jwst)\n",
    "\n",
    "    # NASA Image and Video Library API\n",
    "    if NASA_API_AMOUNT > 0:\n",
    "        NASA_API_pages, NASA_API_counts = construct_pages_counts(NASA_API_AMOUNT)\n",
    "        if len(NASA_API_SEARCH_TERMS) > 0:\n",
    "            for term in NASA_API_SEARCH_TERMS:\n",
    "                for idx, p in enumerate(NASA_API_pages):\n",
    "                    data_nasa_images = nasa_images_api(page=p, count=NASA_API_counts[idx], searchTerm=term)\n",
    "                    for data in data_nasa_images['collection']['items']:\n",
    "                        parsed_nasa_images = build_nasa_images_data(data)\n",
    "                        if parsed_nasa_images['imageURL'] != \"\":\n",
    "                            parsed_nasa_images['id'] = id_\n",
    "                            id_ += 1\n",
    "                            DATASET_JSON.append(parsed_nasa_images)\n",
    "\n",
    "    # APOD API\n",
    "    if APOD_API_AMOUNT > 0:\n",
    "        APOD_API_pages, APOD_API_counts = construct_pages_counts(APOD_API_AMOUNT)\n",
    "        for idx, p in enumerate(APOD_API_pages):\n",
    "            data_apod = apod_api(count=APOD_API_counts[idx])\n",
    "            for data in data_apod:\n",
    "                parsed_apod = build_apod_data(data)\n",
    "                if parsed_apod['imageURL'] != \"\" :\n",
    "                    parsed_apod['id'] = id_\n",
    "                    id_ += 1\n",
    "                    DATASET_JSON.append(parsed_apod)\n",
    "\n",
    "    return DATASET_JSON"
   ]
  },
  {
   "cell_type": "markdown",
   "metadata": {},
   "source": [
    "### Download Images functionality"
   ]
  },
  {
   "cell_type": "code",
   "execution_count": 209,
   "metadata": {},
   "outputs": [],
   "source": [
    "def download_images(dataset):\n",
    "    # Create images directory if it doesn't exist\n",
    "    if not os.path.exists(\"images\"):\n",
    "        os.makedirs(\"images\")\n",
    "\n",
    "    if CLEAR_IMAGES_FOLDER:\n",
    "        print(\"\\nDeleteing images in Images directory\")\n",
    "        files = glob.glob(os.path.join(\"images\", \"*\"))\n",
    "        for file in files:\n",
    "            try:\n",
    "                os.remove(file)\n",
    "            except Exception as e:\n",
    "                print(f\"Error deleting {file}: {e}\")\n",
    "    \n",
    "    index_to_remove = []\n",
    "\n",
    "    print(\"\\nDownloading Images...\")\n",
    "    # Download image\n",
    "    for data in dataset:\n",
    "        try:\n",
    "            response = requests.get(data['imageURL'])\n",
    "            if response.status_code == 200:\n",
    "                try:\n",
    "                    img = Image.open(BytesIO(response.content))\n",
    "                    img.convert('RGBA').convert('RGB')\n",
    "                    img.save(f\"images/image_{data['id']}.jpg\")\n",
    "                except Exception as e:\n",
    "                    print(f\"\\nCOULD NOT DOWNLOAD IMAGE FOR ID: {data['id']}\")       \n",
    "                    print(f\"Error: {e}\")\n",
    "                    index_to_remove.append(data['id'])\n",
    "        except Exception as e:\n",
    "            print(f\"\\nCOULD NOT DOWNLOAD IMAGE FOR ID: {data['id']}\")       \n",
    "            print(f\"Error: {e}\") \n",
    "            index_to_remove.append(data['id'])\n",
    "\n",
    "    if REMOVE_NON_DOWNLOADABLE_IMAGES and len(index_to_remove) > 0:\n",
    "        \n",
    "        print(f\"\\nRemoving the following indices from the dataset:{index_to_remove}\")\n",
    "        for idx in reversed(index_to_remove):\n",
    "            dataset.pop(idx)\n",
    "    return dataset\n"
   ]
  },
  {
   "cell_type": "markdown",
   "metadata": {},
   "source": [
    "#### Helper method to convert json data to csv using pandas"
   ]
  },
  {
   "cell_type": "code",
   "execution_count": 210,
   "metadata": {},
   "outputs": [],
   "source": [
    "def convert_json_to_csv():\n",
    "    \"\"\"\n",
    "    Read the output dataset.json and convert it to CSV format\n",
    "    We don't want index column because we have \"id\" column in the dataset\n",
    "    \"\"\"\n",
    "    with open(\"dataset.json\", \"r\", encoding=\"utf-8\") as f:\n",
    "        json_df = pd.read_json(f)\n",
    "    json_df.to_csv('dataset.csv', index=False)"
   ]
  },
  {
   "cell_type": "markdown",
   "metadata": {},
   "source": [
    "### Main function to run the entire script. \n",
    "##### Psuedocode: \n",
    "- Call get_data function to generate the initial output dataset from each API based on configuration variables. \n",
    "- If DEV MODE is set to True, then an output of all the data will be printed. \n",
    "- If DOWNLOAD_IMAGES is set to True, then an output of each image will be downloaded to the images directory.\n",
    "    - The images direcotry will be created if it does not exist.\n",
    "- Dump the JSON dataset generated into dataset.json file.\n",
    "- Convert dataset.json file to csv and export it to dataset.csv file."
   ]
  },
  {
   "cell_type": "code",
   "execution_count": 211,
   "metadata": {},
   "outputs": [],
   "source": [
    "def main():\n",
    "    print(\"Starting to retrieve data from APIs...\")\n",
    "    dataset_json = get_data()\n",
    "    if DEV_MODE:\n",
    "        print(\"\\nFinal JSON Dataset:\")\n",
    "        print(dataset_json)\n",
    "    print(\"\\nFinished retrieving data from APIs.\")\n",
    "    print(f\"Length of Data Retrieved: {len(dataset_json)}\")\n",
    "\n",
    "    if DOWNLOAD_IMAGES:\n",
    "        dataset_json=download_images(dataset_json)\n",
    "        print(\"\\nFinished downloading Images. Please view the Images folder\")\n",
    "        print(f\"Length of Dataset after image download: {len(dataset_json)}\")\n",
    "\n",
    "    print(\"\\nExporting Dataset as JSON. View the dataset.json file\")\n",
    "    with open(\"dataset.json\", \"w\", encoding=\"utf-8\") as f:\n",
    "        json.dump(dataset_json, f, indent=2)\n",
    "\n",
    "    print(\"\\nConverting JSON dataset to CSV. View the dataset.csv file\")\n",
    "    convert_json_to_csv()"
   ]
  },
  {
   "cell_type": "code",
   "execution_count": 212,
   "metadata": {},
   "outputs": [
    {
     "name": "stdout",
     "output_type": "stream",
     "text": [
      "Starting to retrieve data from APIs...\n"
     ]
    },
    {
     "name": "stdout",
     "output_type": "stream",
     "text": [
      "\n",
      "Finished retrieving data from APIs.\n",
      "Length of Data Retrieved: 40\n",
      "\n",
      "Deleteing images in Images directory\n",
      "\n",
      "Downloading Images...\n",
      "\n",
      "Finished downloading Images. Please view the Images folder\n",
      "Length of Dataset after image download: 40\n",
      "\n",
      "Exporting Dataset as JSON. View the dataset.json file\n",
      "\n",
      "Converting JSON dataset to CSV. View the dataset.csv file\n"
     ]
    }
   ],
   "source": [
    "main()"
   ]
  }
 ],
 "metadata": {
  "kernelspec": {
   "display_name": "Python 3",
   "language": "python",
   "name": "python3"
  },
  "language_info": {
   "codemirror_mode": {
    "name": "ipython",
    "version": 3
   },
   "file_extension": ".py",
   "mimetype": "text/x-python",
   "name": "python",
   "nbconvert_exporter": "python",
   "pygments_lexer": "ipython3",
   "version": "3.12.0"
  }
 },
 "nbformat": 4,
 "nbformat_minor": 2
}
